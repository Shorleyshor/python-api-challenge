{
 "cells": [
  {
   "cell_type": "markdown",
   "metadata": {},
   "source": [
    "# VacationPy\n",
    "----\n",
    "\n",
    "#### Note\n",
    "* Keep an eye on your API usage. Use https://developers.google.com/maps/reporting/gmp-reporting as reference for how to monitor your usage and billing.\n",
    "\n",
    "* Instructions have been included for each segment. You do not have to follow them exactly, but they are included to help you think through the steps."
   ]
  },
  {
   "cell_type": "code",
   "execution_count": 1,
   "metadata": {},
   "outputs": [],
   "source": [
    "# Dependencies and Setup\n",
    "import matplotlib.pyplot as plt\n",
    "import pandas as pd\n",
    "import numpy as np\n",
    "import requests\n",
    "import gmaps\n",
    "import os\n",
    "\n",
    "# Import API key\n",
    "from api_keys import g_key"
   ]
  },
  {
   "cell_type": "markdown",
   "metadata": {},
   "source": [
    "### Store Part I results into DataFrame\n",
    "* Load the csv exported in Part I to a DataFrame"
   ]
  },
  {
   "cell_type": "code",
   "execution_count": 15,
   "metadata": {},
   "outputs": [
    {
     "name": "stdout",
     "output_type": "stream",
     "text": [
      "\u001b[1m\u001b[36mImages\u001b[m\u001b[m/                               WeatherPy.ipynb\r\n",
      "ImagesCity Latitude vs. Humidity.png  \u001b[1m\u001b[36m__pycache__\u001b[m\u001b[m/\r\n",
      "VacationPy.ipynb                      api_keys.py\r\n",
      "WeatherPy.csv\r\n"
     ]
    }
   ],
   "source": [
    "ls"
   ]
  },
  {
   "cell_type": "code",
   "execution_count": 20,
   "metadata": {},
   "outputs": [
    {
     "data": {
      "text/html": [
       "<div>\n",
       "<style scoped>\n",
       "    .dataframe tbody tr th:only-of-type {\n",
       "        vertical-align: middle;\n",
       "    }\n",
       "\n",
       "    .dataframe tbody tr th {\n",
       "        vertical-align: top;\n",
       "    }\n",
       "\n",
       "    .dataframe thead th {\n",
       "        text-align: right;\n",
       "    }\n",
       "</style>\n",
       "<table border=\"1\" class=\"dataframe\">\n",
       "  <thead>\n",
       "    <tr style=\"text-align: right;\">\n",
       "      <th></th>\n",
       "      <th>City</th>\n",
       "      <th>Country</th>\n",
       "      <th>Date</th>\n",
       "      <th>Lat</th>\n",
       "      <th>Lng</th>\n",
       "      <th>Cloudiness (%)</th>\n",
       "      <th>Humidity (%)</th>\n",
       "      <th>Max Temp (F)</th>\n",
       "      <th>Wind Speed (mph)</th>\n",
       "    </tr>\n",
       "  </thead>\n",
       "  <tbody>\n",
       "    <tr>\n",
       "      <th>0</th>\n",
       "      <td>Baykit</td>\n",
       "      <td>RU</td>\n",
       "      <td>1667600675</td>\n",
       "      <td>61.6700</td>\n",
       "      <td>96.3700</td>\n",
       "      <td>92</td>\n",
       "      <td>99</td>\n",
       "      <td>7.95</td>\n",
       "      <td>2.55</td>\n",
       "    </tr>\n",
       "    <tr>\n",
       "      <th>1</th>\n",
       "      <td>Ryōtsu-minato</td>\n",
       "      <td>JP</td>\n",
       "      <td>1667600428</td>\n",
       "      <td>38.0833</td>\n",
       "      <td>138.4333</td>\n",
       "      <td>81</td>\n",
       "      <td>59</td>\n",
       "      <td>51.67</td>\n",
       "      <td>9.40</td>\n",
       "    </tr>\n",
       "    <tr>\n",
       "      <th>2</th>\n",
       "      <td>Kaitangata</td>\n",
       "      <td>NZ</td>\n",
       "      <td>1667600675</td>\n",
       "      <td>-46.2817</td>\n",
       "      <td>169.8464</td>\n",
       "      <td>83</td>\n",
       "      <td>76</td>\n",
       "      <td>47.89</td>\n",
       "      <td>12.84</td>\n",
       "    </tr>\n",
       "    <tr>\n",
       "      <th>3</th>\n",
       "      <td>Bluff</td>\n",
       "      <td>NZ</td>\n",
       "      <td>1667600676</td>\n",
       "      <td>-46.6000</td>\n",
       "      <td>168.3333</td>\n",
       "      <td>95</td>\n",
       "      <td>63</td>\n",
       "      <td>50.22</td>\n",
       "      <td>24.76</td>\n",
       "    </tr>\n",
       "    <tr>\n",
       "      <th>4</th>\n",
       "      <td>Mataura</td>\n",
       "      <td>NZ</td>\n",
       "      <td>1667600676</td>\n",
       "      <td>-46.1927</td>\n",
       "      <td>168.8643</td>\n",
       "      <td>97</td>\n",
       "      <td>70</td>\n",
       "      <td>49.17</td>\n",
       "      <td>10.16</td>\n",
       "    </tr>\n",
       "  </tbody>\n",
       "</table>\n",
       "</div>"
      ],
      "text/plain": [
       "            City Country        Date      Lat       Lng  Cloudiness (%)  \\\n",
       "0         Baykit      RU  1667600675  61.6700   96.3700              92   \n",
       "1  Ryōtsu-minato      JP  1667600428  38.0833  138.4333              81   \n",
       "2     Kaitangata      NZ  1667600675 -46.2817  169.8464              83   \n",
       "3          Bluff      NZ  1667600676 -46.6000  168.3333              95   \n",
       "4        Mataura      NZ  1667600676 -46.1927  168.8643              97   \n",
       "\n",
       "   Humidity (%)  Max Temp (F)  Wind Speed (mph)  \n",
       "0            99          7.95              2.55  \n",
       "1            59         51.67              9.40  \n",
       "2            76         47.89             12.84  \n",
       "3            63         50.22             24.76  \n",
       "4            70         49.17             10.16  "
      ]
     },
     "execution_count": 20,
     "metadata": {},
     "output_type": "execute_result"
    }
   ],
   "source": [
    "\n",
    "# This notebook requires that WeatherPy.ipynb is run first, to output data to the below csv file.\n",
    "\n",
    "# Store the CSV created in WeatherPy into a dataframe.\n",
    "city_df = pd.read_csv(\"WeatherPy.csv\")\n",
    "city_df.head()"
   ]
  },
  {
   "cell_type": "markdown",
   "metadata": {},
   "source": [
    "### Humidity Heatmap\n",
    "* Configure gmaps.\n",
    "* Use the Lat and Lng as locations and Humidity as the weight.\n",
    "* Add Heatmap layer to map."
   ]
  },
  {
   "cell_type": "code",
   "execution_count": 22,
   "metadata": {},
   "outputs": [
    {
     "data": {
      "text/plain": [
       "100"
      ]
     },
     "execution_count": 22,
     "metadata": {},
     "output_type": "execute_result"
    }
   ],
   "source": [
    "# Determan max humidity level in the city data frame:\n",
    "max_humidity = city['Humidity (%)'].max()\n",
    "max_humidity"
   ]
  },
  {
   "cell_type": "code",
   "execution_count": 31,
   "metadata": {},
   "outputs": [],
   "source": [
    "# Configure gmaps to use your Google API key.\n",
    "gmaps.configure(api_key=g_key)\n",
    "\n"
   ]
  },
  {
   "cell_type": "code",
   "execution_count": 35,
   "metadata": {},
   "outputs": [
    {
     "data": {
      "application/vnd.jupyter.widget-view+json": {
       "model_id": "234bb49b4df048f088a7b62944533a28",
       "version_major": 2,
       "version_minor": 0
      },
      "text/plain": [
       "Figure(layout=FigureLayout(height='420px'))"
      ]
     },
     "metadata": {},
     "output_type": "display_data"
    }
   ],
   "source": [
    "gmaps.configure(api_key=g_key)\n",
    "# Get the latitude and longitude.\n",
    "locations = city_df[[\"Lat\", \"Lng\"]]\n",
    "\n",
    "# Get the maximum temperature.\n",
    "max_temp = city_df[\"Max Temp (F)\"]\n",
    "\n",
    "# Assign the figure variable.\n",
    "fig = gmaps.figure(center=(30.0, 31.0), zoom_level=1.5)\n",
    "\n",
    "# Assign the heatmap variable.\n",
    "heat_layer = gmaps.heatmap_layer(locations,\n",
    "                                 weights=[max(temp, 0) for temp in max_temp],\n",
    "                                 dissipating=False,\n",
    "                                 max_intensity=300,\n",
    "                                 point_radius=4)\n",
    "\n",
    "# Add the heatmap layer.\n",
    "fig.add_layer(heat_layer)\n",
    "\n",
    "# Call the figure to plot the data.\n",
    "fig"
   ]
  },
  {
   "cell_type": "markdown",
   "metadata": {},
   "source": [
    "### Create new DataFrame fitting weather criteria\n",
    "* Narrow down the cities to fit weather conditions.\n",
    "* Drop any rows will null values."
   ]
  },
  {
   "cell_type": "code",
   "execution_count": 36,
   "metadata": {},
   "outputs": [
    {
     "ename": "NameError",
     "evalue": "name 'city_df_narrow' is not defined",
     "output_type": "error",
     "traceback": [
      "\u001b[0;31m---------------------------------------------------------------------------\u001b[0m",
      "\u001b[0;31mNameError\u001b[0m                                 Traceback (most recent call last)",
      "Input \u001b[0;32mIn [36]\u001b[0m, in \u001b[0;36m<cell line: 7>\u001b[0;34m()\u001b[0m\n\u001b[1;32m      1\u001b[0m \u001b[38;5;66;03m# Create new data frame with requested weather conditions:\u001b[39;00m\n\u001b[1;32m      2\u001b[0m city_narrow_down\u001b[38;5;241m=\u001b[39mcity_df[(city_df[\u001b[38;5;124m'\u001b[39m\u001b[38;5;124mMax Temp (F)\u001b[39m\u001b[38;5;124m'\u001b[39m] \u001b[38;5;241m<\u001b[39m \u001b[38;5;241m80\u001b[39m) \u001b[38;5;241m&\u001b[39m\n\u001b[1;32m      3\u001b[0m                              (city_df[\u001b[38;5;124m'\u001b[39m\u001b[38;5;124mMax Temp (F)\u001b[39m\u001b[38;5;124m'\u001b[39m] \u001b[38;5;241m>\u001b[39m \u001b[38;5;241m65\u001b[39m) \u001b[38;5;241m&\u001b[39m\n\u001b[1;32m      4\u001b[0m                              (city_df[\u001b[38;5;124m'\u001b[39m\u001b[38;5;124mWind Speed (mph)\u001b[39m\u001b[38;5;124m'\u001b[39m] \u001b[38;5;241m<\u001b[39m \u001b[38;5;241m10\u001b[39m) \u001b[38;5;241m&\u001b[39m\n\u001b[1;32m      5\u001b[0m                              (city_df[\u001b[38;5;124m'\u001b[39m\u001b[38;5;124mCloudiness (\u001b[39m\u001b[38;5;124m%\u001b[39m\u001b[38;5;124m)\u001b[39m\u001b[38;5;124m'\u001b[39m] \u001b[38;5;241m<\u001b[39m \u001b[38;5;241m15\u001b[39m) \u001b[38;5;241m&\u001b[39m\n\u001b[1;32m      6\u001b[0m                              (city_df[\u001b[38;5;124m'\u001b[39m\u001b[38;5;124mHumidity (\u001b[39m\u001b[38;5;124m%\u001b[39m\u001b[38;5;124m)\u001b[39m\u001b[38;5;124m'\u001b[39m] \u001b[38;5;241m<\u001b[39m \u001b[38;5;241m30\u001b[39m)]\n\u001b[0;32m----> 7\u001b[0m city_narrow_down\u001b[38;5;241m=\u001b[39m\u001b[43mcity_df_narrow\u001b[49m\u001b[38;5;241m.\u001b[39mdropna() \u001b[38;5;66;03m# drop any rows will null values\u001b[39;00m\n\u001b[1;32m      8\u001b[0m city_narrow_down\u001b[38;5;241m.\u001b[39mcount()\n",
      "\u001b[0;31mNameError\u001b[0m: name 'city_df_narrow' is not defined"
     ]
    }
   ],
   "source": [
    "# Create new data frame with requested weather conditions:\n",
    "city_narrow_down=city_df[(city_df['Max Temp (F)'] < 80) &\n",
    "                             (city_df['Max Temp (F)'] > 65) &\n",
    "                             (city_df['Wind Speed (mph)'] < 10) &\n",
    "                             (city_df['Cloudiness (%)'] < 15) &\n",
    "                             (city_df['Humidity (%)'] < 30)]\n",
    "city_narrow_down=city_df_narrow.dropna() # drop any rows will null values\n",
    "city_narrow_down.count()"
   ]
  },
  {
   "cell_type": "markdown",
   "metadata": {},
   "source": [
    "### Hotel Map\n",
    "* Store into variable named `hotel_df`.\n",
    "* Add a \"Hotel Name\" column to the DataFrame.\n",
    "* Set parameters to search for hotels with 5000 meters.\n",
    "* Hit the Google Places API for each city's coordinates.\n",
    "* Store the first Hotel result into the DataFrame.\n",
    "* Plot markers on top of the heatmap."
   ]
  },
  {
   "cell_type": "code",
   "execution_count": null,
   "metadata": {},
   "outputs": [],
   "source": []
  },
  {
   "cell_type": "code",
   "execution_count": null,
   "metadata": {},
   "outputs": [],
   "source": []
  },
  {
   "cell_type": "code",
   "execution_count": null,
   "metadata": {},
   "outputs": [],
   "source": [
    "# NOTE: Do not change any of the code in this cell\n",
    "\n",
    "# Using the template add the hotel marks to the heatmap\n",
    "info_box_template = \"\"\"\n",
    "<dl>\n",
    "<dt>Name</dt><dd>{Hotel Name}</dd>\n",
    "<dt>City</dt><dd>{City}</dd>\n",
    "<dt>Country</dt><dd>{Country}</dd>\n",
    "</dl>\n",
    "\"\"\"\n",
    "# Store the DataFrame Row\n",
    "# NOTE: be sure to update with your DataFrame name\n",
    "hotel_info = [info_box_template.format(**row) for index, row in hotel_df.iterrows()]\n",
    "locations = hotel_df[[\"Lat\", \"Lng\"]]"
   ]
  },
  {
   "cell_type": "code",
   "execution_count": null,
   "metadata": {},
   "outputs": [],
   "source": [
    "# Add marker layer ontop of heat map\n",
    "\n",
    "\n",
    "# Display figure\n"
   ]
  },
  {
   "cell_type": "code",
   "execution_count": null,
   "metadata": {},
   "outputs": [],
   "source": []
  }
 ],
 "metadata": {
  "kernelspec": {
   "display_name": "Python 3 (ipykernel)",
   "language": "python",
   "name": "python3"
  },
  "language_info": {
   "codemirror_mode": {
    "name": "ipython",
    "version": 3
   },
   "file_extension": ".py",
   "mimetype": "text/x-python",
   "name": "python",
   "nbconvert_exporter": "python",
   "pygments_lexer": "ipython3",
   "version": "3.9.12"
  },
  "latex_envs": {
   "LaTeX_envs_menu_present": true,
   "autoclose": false,
   "autocomplete": true,
   "bibliofile": "biblio.bib",
   "cite_by": "apalike",
   "current_citInitial": 1,
   "eqLabelWithNumbers": true,
   "eqNumInitial": 1,
   "hotkeys": {
    "equation": "Ctrl-E",
    "itemize": "Ctrl-I"
   },
   "labels_anchors": false,
   "latex_user_defs": false,
   "report_style_numbering": false,
   "user_envs_cfg": false
  }
 },
 "nbformat": 4,
 "nbformat_minor": 4
}
